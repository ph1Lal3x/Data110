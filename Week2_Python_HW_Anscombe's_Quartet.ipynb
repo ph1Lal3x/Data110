{
  "nbformat": 4,
  "nbformat_minor": 0,
  "metadata": {
    "colab": {
      "private_outputs": true,
      "provenance": []
    },
    "kernelspec": {
      "name": "python3",
      "display_name": "Python 3"
    },
    "language_info": {
      "name": "python"
    }
  },
  "cells": [
    {
      "cell_type": "markdown",
      "source": [
        "### Step 1: Import Necessary Packages\n",
        "\n",
        "Before we begin, we need to import the necessary Python libraries for plotting and performing the regression. We'll use:\n",
        "\n",
        "- `matplotlib.pyplot` for creating the graph\n",
        "- `numpy` for numerical operations\n"
      ],
      "metadata": {
        "id": "DwPQHz0ByEvD"
      }
    },
    {
      "cell_type": "code",
      "execution_count": null,
      "metadata": {
        "id": "pXmhBZ4MvRPv"
      },
      "outputs": [],
      "source": [
        "import matplotlib.pyplot as plt\n",
        "import numpy as np"
      ]
    },
    {
      "cell_type": "markdown",
      "source": [
        "### Step 2: Anscombe's Quartet Dataset\n",
        "\n",
        "This dataset is known as **Anscombe's Quartet**, created by statistician Francis Anscombe to illustrate the importance of visualizing data. Despite having nearly identical statistical properties (e.g., mean, variance, correlation, and linear regression), each dataset tells a very different story when graphed.\n",
        "\n",
        "- **x**: The independent variable, common across three datasets.\n",
        "- **y1, y2, y3**: Three different dependent variables associated with the same `x` values.\n",
        "- **x4, y4**: A special case where most of the `x` values are identical, with one outlier.\n",
        "\n",
        "#### Anscombe's Quartet:\n",
        "\n",
        "`"
      ],
      "metadata": {
        "id": "548spAROy0JN"
      }
    },
    {
      "cell_type": "code",
      "source": [
        "# Anscombe's Quartet:\n",
        "x = [10, 8, 13, 9, 11, 14, 6, 4, 12, 7, 5]\n",
        "y1 = [8.04, 6.95, 7.58, 8.81, 8.33, 9.96, 7.24, 4.26, 10.84, 4.82, 5.68]\n",
        "y2 = [9.14, 8.14, 8.74, 8.77, 9.26, 8.10, 6.13, 3.10, 9.13, 7.26, 4.74]\n",
        "y3 = [7.46, 6.77, 12.74, 7.11, 7.81, 8.84, 6.08, 5.39, 8.15, 6.42, 5.73]\n",
        "x4 = [8, 8, 8, 8, 8, 8, 8, 19, 8, 8, 8]\n",
        "y4 = [6.58, 5.76, 7.71, 8.84, 8.47, 7.04, 5.25, 12.50, 5.56, 7.91, 6.89]\n"
      ],
      "metadata": {
        "id": "aPVnuHIevUqf"
      },
      "execution_count": null,
      "outputs": []
    },
    {
      "cell_type": "code",
      "source": [
        "plt.scatter(x, y1)\n"
      ],
      "metadata": {
        "id": "w0l5R9KqvXvd",
        "collapsed": true
      },
      "execution_count": null,
      "outputs": []
    },
    {
      "cell_type": "code",
      "source": [
        "# Calculate the slope (m) and intercept (b) of the line using np.polyfit\n",
        "m, b = np.polyfit(x, y1, 1)\n",
        "\n",
        "# Create the regression line\n",
        "regression_line = m * np.array(x) + b\n",
        "\n",
        "# Plot the data points and regression line\n",
        "plt.scatter(x, y1)\n",
        "plt.plot(x, regression_line,color='red')\n",
        "plt.xlabel('x')\n",
        "plt.ylabel('y1')\n"
      ],
      "metadata": {
        "id": "pDygKka5v80w"
      },
      "execution_count": null,
      "outputs": []
    },
    {
      "cell_type": "markdown",
      "source": [
        "### Your Task:\n",
        "\n",
        "Perform the same linear regression process for the following datasets: y2, y3, and y4.\n",
        "Modify the code to calculate and plot the regression lines for each of these datasets.\n",
        "Use distinct colors for each plot and appropriately label the axes (y2, y3, etc.).\n",
        "Discuss any differences you observe when comparing the results across all datasets.\n"
      ],
      "metadata": {
        "id": "zq1vxanv0WCk"
      }
    },
    {
      "cell_type": "code",
      "source": [
        "# Code for x and y2\n",
        "\n",
        "m2, b2 = np.polyfit(x, y2, 1)\n",
        "\n",
        "regression_line_2 = m2 * np.array(x) + b2\n",
        "\n",
        "plt.scatter(x, y2)\n",
        "plt.plot(x, regression_line_2, color = 'red')\n",
        "plt.xlabel('x')\n",
        "plt.ylabel('y2')"
      ],
      "metadata": {
        "id": "xlEuffEB0akv"
      },
      "execution_count": null,
      "outputs": []
    },
    {
      "cell_type": "code",
      "source": [
        "# Code for x and y3\n",
        "\n",
        "m3, b3 = np.polyfit(x, y3, 1)\n",
        "\n",
        "regression_line_3 = m3 * np.array(x) + b3\n",
        "\n",
        "plt.scatter(x, y3)\n",
        "plt.plot(x, regression_line_3, color = 'red')\n",
        "plt.xlabel('x')\n",
        "plt.ylabel('y3')"
      ],
      "metadata": {
        "id": "japDtZHZ0spc",
        "collapsed": true
      },
      "execution_count": null,
      "outputs": []
    },
    {
      "cell_type": "code",
      "source": [
        "# Code for x and y4\n",
        "\n",
        "m4, b4 = np.polyfit(x, y4, 1)\n",
        "\n",
        "regression_line_4 = m4 * np.array(x) + b4\n",
        "\n",
        "plt.scatter(x, y4)\n",
        "plt.plot(x, regression_line_4, color = 'red')\n",
        "plt.xlabel('x')\n",
        "plt.ylabel('y4')"
      ],
      "metadata": {
        "id": "xB_v3dqe0vk6",
        "collapsed": true
      },
      "execution_count": null,
      "outputs": []
    },
    {
      "cell_type": "code",
      "source": [
        "# Code for x4 and y4\n",
        "\n",
        "m5, b5 = np.polyfit(x4, y4, 1)\n",
        "\n",
        "regression_line_5 = m5 * np.array(x4) + b5\n",
        "\n",
        "plt.scatter(x4, y4)\n",
        "plt.plot(x4, regression_line_5, color = 'red')\n",
        "plt.xlabel('x4')\n",
        "plt.ylabel('y4')"
      ],
      "metadata": {
        "id": "9JZOv2du1Ajk"
      },
      "execution_count": null,
      "outputs": []
    },
    {
      "cell_type": "markdown",
      "source": [
        "### Reflection Question:\n",
        "\n",
        "After visualizing the linear regression for all four datasets in Anscombe's Quartet, reflect on the following:\n",
        "\n",
        "#### What is your reflection?\n",
        "- How do the datasets visually differ despite having similar summary statistics?\n",
        "- How did the outlier in the `x4, y4` dataset affect the regression line compared to the other datasets?\n",
        "- Why is it important to visualize data in addition to calculating summary statistics?\n",
        "\n",
        "Please provide your insights and discuss the importance of data visualization in understanding relationships between variables.\n"
      ],
      "metadata": {
        "id": "s6D6uk8v1KRZ"
      }
    },
    {
      "cell_type": "markdown",
      "source": [
        "## ANSWER\n",
        "---\n",
        "- The graph with x,y2 had a scatter plot that looked like a projectile motion graph and had a regression line that is positive. The graph x,y3 had a scatter plot with all data numbers being similar except for one, the outlier. The graph also had a postive regression line but was less steep than the x,y2 graph. The x,y4 graph also had an outlier but the scatter plot was trending downward which also reflected in the regression line becoming negative. Lastly the x4,y4 graph was unique in that all the data points were lined up vertically at x = 8 except for the outlier. But because of the outlier having a greater y value, the regression line became positive.\n",
        "\n",
        "- The regression line for x4, y4 dataset became positive and passes through the outlier point.\n",
        "\n",
        "- Having a visual helps the statistician and people visually see how the data looks. It is also more pleasing to the eye and can help find trends."
      ],
      "metadata": {
        "id": "ZXc5ES3Em5ir"
      }
    }
  ]
}